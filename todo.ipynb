{
 "cells": [
  {
   "cell_type": "markdown",
   "id": "609f246e",
   "metadata": {},
   "source": [
    "生物：\n",
    "\n",
    "- （待完善）孟德尔遗传规律：五三 310 页考法 1, 2, 3。\n",
    "\n",
    "- 细胞活动。\n",
    "\n",
    "- 遗传除了孟德尔以外的。\n",
    "\n",
    "- 生物，参考大学教材。\n"
   ]
  },
  {
   "cell_type": "markdown",
   "id": "d3787c01",
   "metadata": {},
   "source": [
    "物理：\n",
    "\n",
    "- 空间测量，参考新概念、初中课本。\n",
    "\n",
    "- 波动、简谐振动。\n",
    "\n",
    "- 热力学。\n",
    "\n",
    "- 角动量、轨道力学。\n",
    "\n",
    "- 天体概述，补充地理内容。\n",
    "\n",
    "- 光学、近代物理学、热学。\n"
   ]
  },
  {
   "cell_type": "markdown",
   "id": "f6d74864",
   "metadata": {},
   "source": [
    "数学：\n",
    "\n",
    "- 目录\n",
    "\n",
    "    - science/function/5.md # [TODO] 微积分\n",
    "    - science/polynomial/1.md # [TODO] 多项式入门\n",
    "    - science/polynomial/2.md # [TODO] 多项式科技\n",
    "    - science/polynomial/5.md # [TODO] 不等式进阶\n",
    "    - science/sequence/3.md # [TODO] 数列进阶\n",
    "    - science/probability/1.md # [TODO] 统计模型\n",
    "    - science/probability/4.md # [TODO] 概率分布\n",
    "    - science/number/1.md # [TODO] 线性规划\n",
    "    - science/number/2.md # [TODO] 计算理论\n",
    "    - science/number/3.md # [TODO] 数论入门\n",
    "    - science/number/4.md # [TODO] 数论测试\n",
    "    - science/geometry/2.md # [TODO] [圆幂定理] 直线和圆\n",
    "    - science/geometry/5.md # [TODO] 线性代数\n",
    "    - science/solid/2.md # [todo] 空间向量\n",
    "\n",
    "- 线性代数：3B1B。\n",
    "\n",
    "- OI wiki：数论、群论、博弈论、计算理论、线性规划、序理论、置换与排列。\n",
    "\n",
    "- 具体数学：微积分、数列进阶与提高。\n",
    "\n",
    "- 统计模型、概率分布。\n",
    "\n",
    "- 新高考数学你真的掌握了吗 平面几何与三角函数.pdf P223 圆幂定理\n",
    "\n",
    "- 新高考数学你真的掌握了吗 函数.pdf 4.3 找点（三）\n",
    "\n",
    "- 解析几何（第三版） (丘维声) (Z-Library).pdf P141 矩阵"
   ]
  },
  {
   "cell_type": "markdown",
   "id": "969bfb99",
   "metadata": {},
   "source": [
    "化学：\n",
    "\n",
    "- 实验化学。\n",
    "\n",
    "- 晶体补充。\n",
    "\n",
    "- 水溶液。"
   ]
  },
  {
   "cell_type": "markdown",
   "id": "fedac8e9",
   "metadata": {},
   "source": [
    "化学教材拓展：\n",
    "\n",
    "- <https://m.hxzxs.cn/view-21707-1.html>\n",
    "- <https://m.hxzxs.cn/view-21704-1.html>\n",
    "- <https://m.hxzxs.cn/view-21705-1.html>\n",
    "- <https://m.hxzxs.cn/view-21686-1.html>\n",
    "- <https://m.hxzxs.cn/view-21702-1.html>\n",
    "- <https://m.hxzxs.cn/view-21700-1.html>\n",
    "- <https://m.hxzxs.cn/view-21701-1.html>\n",
    "- <https://m.hxzxs.cn/view-21688-1.html>\n",
    "- <https://m.hxzxs.cn/view-21687-1.html>\n",
    "- <https://m.hxzxs.cn/view-21841-1.html>\n",
    "- <https://m.hxzxs.cn/view-21840-1.html>\n",
    "\n",
    "元素：\n",
    "\n",
    "- [1-9号元素及其化合物知识要点简介](https://m.hxzxs.cn/view-21504-1.html)  \n",
    "- [11-15号元素及其化合物知识要点简介](https://m.hxzxs.cn/view-21505-1.html)  \n",
    "- [16-20号元素及其化合物知识要点简介](https://m.hxzxs.cn/view-21506-1.html)  \n",
    "- [21-25号元素及其化合物知识要点简介](https://m.hxzxs.cn/view-21507-1.html)  \n",
    "- [26-30号元素及其化合物知识要点简介](https://m.hxzxs.cn/view-21508-1.html)  \n",
    "- [31-35号元素及其化合物知识要点简介](https://m.hxzxs.cn/view-21509-1.html)  \n",
    "- [37-75号元素及其化合物知识要点简介](https://m.hxzxs.cn/view-21510-1.html)  \n",
    "- [76号之后元素及其化合物知识要点简介](https://m.hxzxs.cn/view-21511-1.html)  \n"
   ]
  }
 ],
 "metadata": {
  "kernelspec": {
   "display_name": "Python 3",
   "language": "python",
   "name": "python3"
  },
  "language_info": {
   "codemirror_mode": {
    "name": "ipython",
    "version": 3
   },
   "file_extension": ".py",
   "mimetype": "text/x-python",
   "name": "python",
   "nbconvert_exporter": "python",
   "pygments_lexer": "ipython3",
   "version": "3.12.10"
  }
 },
 "nbformat": 4,
 "nbformat_minor": 5
}
