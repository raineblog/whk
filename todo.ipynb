{
 "cells": [
  {
   "cell_type": "markdown",
   "id": "609f246e",
   "metadata": {
    "slideshow": {
     "slide_type": "slide"
    }
   },
   "source": [
    "物理：\n",
    "\n",
    "- 空间测量，参考新概念、初中课本。\n",
    "\n",
    "- 波动、简谐振动。\n",
    "\n",
    "- 热力学。\n",
    "\n",
    "- 角动量、轨道力学。\n",
    "\n",
    "- 天体概述，补充地理内容。\n",
    "\n",
    "- 光学、近代物理学、热学。\n",
    "\n",
    "- 电路、磁学、电磁学、交变电流。\n",
    "\n",
    "化学：\n",
    "\n",
    "- （待完善）铝的工业制取。\n",
    "\n",
    "- 实验化学。\n",
    "\n",
    "- 溶液行为。\n",
    "\n",
    "- 有机化学。\n",
    "\n",
    "- 晶体结构。\n",
    "\n",
    "生物：\n",
    "\n",
    "- （待完善）孟德尔遗传规律：五三 310 页考法 1, 2, 3。\n",
    "\n",
    "- 细胞活动。\n",
    "\n",
    "- 遗传除了孟德尔以外的。\n",
    "\n",
    "- 生态系统、稳态调节。\n",
    "\n",
    "- 生物，参考大学教材。\n"
   ]
  },
  {
   "cell_type": "markdown",
   "id": "f6d74864",
   "metadata": {},
   "source": [
    "数学：\n",
    "\n",
    "- 线性代数：3B1B。\n",
    "\n",
    "- OI wiki：数论、群论、博弈论、计算理论、线性规划、序理论、置换与排列。\n",
    "\n",
    "- 具体数学：微积分、数列进阶与提高。\n",
    "\n",
    "- 统计模型、概率分布。\n",
    "\n",
    "- 新高考数学你真的掌握了吗 平面几何与三角函数.pdf P223 圆幂定理\n",
    "\n",
    "- 新高考数学你真的掌握了吗 函数.pdf 4.3 找点（三）\n",
    "\n",
    "- 解析几何（第三版） (丘维声) (Z-Library).pdf P141 矩阵"
   ]
  },
  {
   "cell_type": "markdown",
   "id": "b3839c34",
   "metadata": {},
   "source": [
    "有机化学：\n",
    "\n",
    "- 季戊四醇\n",
    "\n",
    "- 交酯、内脂\n",
    "\n",
    "- 环己烷椅式结构、船式结构\n",
    "\n",
    "- 金刚烷\n",
    "\n",
    "- 环氧乙烷、乙二醇，-[-CH2-CH2-O-]-\n",
    "\n",
    "- 丙酮酸\n",
    "\n",
    "- 马氏规则"
   ]
  },
  {
   "cell_type": "markdown",
   "id": "fedac8e9",
   "metadata": {},
   "source": [
    "化学教材拓展：\n",
    "\n",
    "- <https://m.hxzxs.cn/view-21707-1.html>\n",
    "- <https://m.hxzxs.cn/view-21704-1.html>\n",
    "- <https://m.hxzxs.cn/view-21705-1.html>\n",
    "- <https://m.hxzxs.cn/view-21686-1.html>\n",
    "- <https://m.hxzxs.cn/view-21702-1.html>\n",
    "- <https://m.hxzxs.cn/view-21700-1.html>\n",
    "- <https://m.hxzxs.cn/view-21701-1.html>\n",
    "- <https://m.hxzxs.cn/view-21688-1.html>\n",
    "- <https://m.hxzxs.cn/view-21687-1.html>\n",
    "- <https://m.hxzxs.cn/view-21841-1.html>\n",
    "- <https://m.hxzxs.cn/view-21840-1.html>\n",
    "\n",
    "元素：\n",
    "\n",
    "- [1-9号元素及其化合物知识要点简介](https://m.hxzxs.cn/view-21504-1.html)  \n",
    "- [11-15号元素及其化合物知识要点简介](https://m.hxzxs.cn/view-21505-1.html)  \n",
    "- [16-20号元素及其化合物知识要点简介](https://m.hxzxs.cn/view-21506-1.html)  \n",
    "- [21-25号元素及其化合物知识要点简介](https://m.hxzxs.cn/view-21507-1.html)  \n",
    "- [26-30号元素及其化合物知识要点简介](https://m.hxzxs.cn/view-21508-1.html)  \n",
    "- [31-35号元素及其化合物知识要点简介](https://m.hxzxs.cn/view-21509-1.html)  \n",
    "- [37-75号元素及其化合物知识要点简介](https://m.hxzxs.cn/view-21510-1.html)  \n",
    "- [76号之后元素及其化合物知识要点简介](https://m.hxzxs.cn/view-21511-1.html)  \n"
   ]
  },
  {
   "cell_type": "markdown",
   "id": "33a3e39b",
   "metadata": {
    "vscode": {
     "languageId": "raw"
    }
   },
   "source": [
    "- 数学体系与理解:\n",
    "    - science/mathematics/1.md # 数系与复数\n",
    "    - science/mathematics/2.md # 集合与逻辑\n",
    "    - science/mathematics/3.md # 公理化系统\n",
    "- 函数极限微积分:\n",
    "    - science/function/1.md # 简单函数\n",
    "    - science/function/2.md # 导数入门\n",
    "    - science/function/3.md # 函数性质\n",
    "    - science/function/4.md # 极限论\n",
    "    - science/function/5.md # [TODO] 微积分\n",
    "- 多项式与不等式:\n",
    "    - science/polynomial/1.md # [TODO] 多项式入门\n",
    "    - science/polynomial/2.md # [TODO] 多项式科技\n",
    "    - science/polynomial/3.md # 均值不等式\n",
    "    - science/polynomial/4.md # 导数不等式\n",
    "    - science/polynomial/5.md # [TODO] 不等式进阶\n",
    "- 数列与离散数学:\n",
    "    - science/sequence/1.md # 数列基础\n",
    "    - science/sequence/2.md # 数列提高\n",
    "    - science/sequence/3.md # [TODO] 数列进阶\n",
    "    - science/sequence/4.md # 数学归纳法\n",
    "- 组合与概率统计:\n",
    "    - science/probability/1.md # [TODO] 统计模型\n",
    "    - science/probability/2.md # 概率入门\n",
    "    - science/probability/3.md # 随机变量\n",
    "    - science/probability/4.md # [TODO] 概率分布\n",
    "    - science/probability/5.md # 组合数学\n",
    "- 数论与算法初步:\n",
    "    - science/number/1.md # [TODO] 线性规划\n",
    "    - science/number/2.md # [TODO] 计算理论\n",
    "    - science/number/3.md # [TODO] 数论入门\n",
    "    - science/number/4.md # [TODO] 数论测试\n",
    "- 三角与平面几何:\n",
    "    - science/plane/1.md # 平面向量\n",
    "    - science/plane/2.md # 三角函数公式\n",
    "    - science/plane/3.md # 三角函数题型\n",
    "    - science/plane/4.md # 三角函数例题\n",
    "    - science/plane/5.md # 解三角形\n",
    "- 解析几何与圆曲:\n",
    "    - science/geometry/1.md # 平面体系\n",
    "    - science/geometry/2.md # [TODO] [圆幂定理] 直线和圆\n",
    "    - science/geometry/3.md # [TODO] [一般方程] 圆曲初步\n",
    "    - science/geometry/4.md # 解析几何\n",
    "    - science/geometry/5.md # [TODO] 线性代数\n",
    "- 空间与立体几何:\n",
    "    - science/solid/1.md # 空间体系\n",
    "    - science/solid/2.md # [todo] 空间向量\n",
    "    - science/solid/3.md # 空间几何体"
   ]
  }
 ],
 "metadata": {
  "kernelspec": {
   "display_name": ".venv",
   "language": "python",
   "name": "python3"
  },
  "language_info": {
   "codemirror_mode": {
    "name": "ipython",
    "version": 3
   },
   "file_extension": ".py",
   "mimetype": "text/x-python",
   "name": "python",
   "nbconvert_exporter": "python",
   "pygments_lexer": "ipython3",
   "version": "3.12.10"
  }
 },
 "nbformat": 4,
 "nbformat_minor": 5
}
