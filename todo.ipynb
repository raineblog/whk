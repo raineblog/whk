{
 "cells": [
  {
   "cell_type": "markdown",
   "id": "609f246e",
   "metadata": {
    "slideshow": {
     "slide_type": "slide"
    }
   },
   "source": [
    "数学故：\n",
    "\n",
    "- 集合、逻辑、不等式（补充竞赛）。\n",
    "\n",
    "- （待完善）线性代数：3B1B。\n",
    "\n",
    "- 数论、群论、博弈论、计算理论、线性规划、序理论、置换与排列：OI wiki。\n",
    "\n",
    "- （待完善）幂指对。\n",
    "\n",
    "- 导数与微积分：补充具体数学。\n",
    "\n",
    "- 数列进阶与提高：参考具体数学。\n",
    "\n",
    "- 欧式几何：参考几何原本。\n",
    "\n",
    "- 解析几何。\n",
    "\n",
    "- 统计模型、概率分布。\n",
    "\n",
    "物理：\n",
    "\n",
    "- 空间测量，参考新概念、初中课本。\n",
    "\n",
    "- 波动、简谐振动。\n",
    "\n",
    "- 热力学。\n",
    "\n",
    "- 角动量、轨道力学。\n",
    "\n",
    "- 天体概述，补充地理内容。\n",
    "\n",
    "- 光学、近代物理学、热学。\n",
    "\n",
    "- 电路、磁学、电磁学、交变电流。\n",
    "\n",
    "化学：\n",
    "\n",
    "- （待完善）铝的工业制取。\n",
    "\n",
    "- 实验化学。\n",
    "\n",
    "- 溶液行为。\n",
    "\n",
    "- 有机化学。\n",
    "\n",
    "- 晶体结构。\n",
    "\n",
    "生物：\n",
    "\n",
    "- （待完善）孟德尔遗传规律：五三 310 页考法 1, 2, 3。\n",
    "\n",
    "- 细胞活动。\n",
    "\n",
    "- 遗传除了孟德尔以外的。\n",
    "\n",
    "- 生态系统、稳态调节。\n",
    "\n",
    "- 生物，参考大学教材。\n"
   ]
  },
  {
   "cell_type": "markdown",
   "id": "fedac8e9",
   "metadata": {},
   "source": [
    "化学教材拓展：\n",
    "\n",
    "- <https://m.hxzxs.cn/view-21707-1.html>\n",
    "- <https://m.hxzxs.cn/view-21704-1.html>\n",
    "- <https://m.hxzxs.cn/view-21705-1.html>\n",
    "- <https://m.hxzxs.cn/view-21686-1.html>\n",
    "- <https://m.hxzxs.cn/view-21702-1.html>\n",
    "- <https://m.hxzxs.cn/view-21700-1.html>\n",
    "- <https://m.hxzxs.cn/view-21701-1.html>\n",
    "- <https://m.hxzxs.cn/view-21688-1.html>\n",
    "- <https://m.hxzxs.cn/view-21687-1.html>\n",
    "- <https://m.hxzxs.cn/view-21841-1.html>\n",
    "- <https://m.hxzxs.cn/view-21840-1.html>\n",
    "\n",
    "元素：\n",
    "\n",
    "- [1-9号元素及其化合物知识要点简介](https://m.hxzxs.cn/view-21504-1.html)  \n",
    "- [11-15号元素及其化合物知识要点简介](https://m.hxzxs.cn/view-21505-1.html)  \n",
    "- [16-20号元素及其化合物知识要点简介](https://m.hxzxs.cn/view-21506-1.html)  \n",
    "- [21-25号元素及其化合物知识要点简介](https://m.hxzxs.cn/view-21507-1.html)  \n",
    "- [26-30号元素及其化合物知识要点简介](https://m.hxzxs.cn/view-21508-1.html)  \n",
    "- [31-35号元素及其化合物知识要点简介](https://m.hxzxs.cn/view-21509-1.html)  \n",
    "- [37-75号元素及其化合物知识要点简介](https://m.hxzxs.cn/view-21510-1.html)  \n",
    "- [76号之后元素及其化合物知识要点简介](https://m.hxzxs.cn/view-21511-1.html)  \n"
   ]
  }
 ],
 "metadata": {
  "kernelspec": {
   "display_name": "Python 3",
   "language": "python",
   "name": "python3"
  },
  "language_info": {
   "codemirror_mode": {
    "name": "ipython",
    "version": 3
   },
   "file_extension": ".py",
   "mimetype": "text/x-python",
   "name": "python",
   "nbconvert_exporter": "python",
   "pygments_lexer": "ipython3",
   "version": "3.12.10"
  }
 },
 "nbformat": 4,
 "nbformat_minor": 5
}
